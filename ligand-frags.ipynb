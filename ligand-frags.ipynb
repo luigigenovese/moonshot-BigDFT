{
 "cells": [
  {
   "cell_type": "markdown",
   "metadata": {},
   "source": [
    "# Ligand Fragmentation\n",
    "In this notebook, we use the auto-fragmentation tool to break up all of the ligands. First load in the metadata."
   ]
  },
  {
   "cell_type": "code",
   "execution_count": 1,
   "metadata": {},
   "outputs": [
    {
     "data": {
      "text/plain": [
       "False"
      ]
     },
     "execution_count": 1,
     "metadata": {},
     "output_type": "execute_result"
    }
   ],
   "source": [
    "from os.path import join, exists\n",
    "from futile.Utils import ensure_dir\n",
    "\n",
    "tempdir = \"temp\"\n",
    "outdir = \"processed-structures\"\n",
    "picdir = \"pictures\"\n",
    "\n",
    "fragdir = \"fragments\"\n",
    "ensure_dir(fragdir)\n",
    "\n",
    "ligdir = \"ligand_run\"\n",
    "ensure_dir(ligdir)"
   ]
  },
  {
   "cell_type": "code",
   "execution_count": 2,
   "metadata": {},
   "outputs": [],
   "source": [
    "from pickle import load\n",
    "pname = \"updated-data.pickle\"\n",
    "with open(pname, \"rb\") as ifile:\n",
    "    data = load(ifile)"
   ]
  },
  {
   "cell_type": "markdown",
   "metadata": {},
   "source": [
    "Read in the geometry file."
   ]
  },
  {
   "cell_type": "code",
   "execution_count": 3,
   "metadata": {},
   "outputs": [],
   "source": [
    "from BigDFT.IO import read_pdb\n",
    "fullsystems = {}\n",
    "for geom in data[\"Crystal ID\"]:\n",
    "    pname = join(outdir, geom+\"-m.pdb\")\n",
    "    with open(pname) as ifile:\n",
    "        fullsystems[geom] = read_pdb(ifile)"
   ]
  },
  {
   "cell_type": "markdown",
   "metadata": {},
   "source": [
    "Extract the ligand from the subsystem."
   ]
  },
  {
   "cell_type": "code",
   "execution_count": 4,
   "metadata": {},
   "outputs": [],
   "source": [
    "from BigDFT.Systems import System\n",
    "systems = {}\n",
    "for geom in data[\"Crystal ID\"]:\n",
    "    systems[geom] = System()\n",
    "    systems[geom][\"LIG:0\"] = fullsystems[geom][\"LIG:0\"]"
   ]
  },
  {
   "cell_type": "markdown",
   "metadata": {},
   "source": [
    "For the systems that have a covalent bond, we need to add in a hydrogen atom to cap the ligand."
   ]
  },
  {
   "cell_type": "code",
   "execution_count": 5,
   "metadata": {},
   "outputs": [],
   "source": [
    "from BigDFT.Fragments import pairwise_distance, distance, Fragment\n",
    "\n",
    "from numpy import argmin, array\n",
    "from numpy.linalg import norm\n",
    "from copy import deepcopy\n",
    "\n",
    "# Bond lengths for link atoms.\n",
    "bond_lengths = {\"C\": 2.0598, \"N\": 1.90862, \"O\": 1.81414}\n",
    "\n",
    "for geom, link, site in zip(data[\"Crystal ID\"], data[\"Link\"], data[\"Site\"]):\n",
    "    if \"cov\" in site:\n",
    "        full = fullsystems[geom]\n",
    "        sys = deepcopy(systems[geom])\n",
    "\n",
    "        # Find the nearest link atom.\n",
    "        distlist = [pairwise_distance(Fragment([x]), sys[\"LIG:0\"]) for x in full[link]]\n",
    "        linkatom = deepcopy(full[link][argmin(distlist)])\n",
    "\n",
    "        # Find the connecting atom\n",
    "        distlist = [distance(Fragment([x]), Fragment([linkatom])) for x in sys[\"LIG:0\"] if x.sym != 'H']\n",
    "        conatom = sys[\"LIG:0\"][argmin(distlist)]\n",
    "\n",
    "        # Shift to a more realistic distance.\n",
    "        pos1 = array(linkatom.get_position(\"bohr\"))\n",
    "        pos2 = array(conatom.get_position(\"bohr\"))\n",
    "        vec = pos2 - pos1\n",
    "        vec *= bond_lengths[conatom.sym]/norm(vec)\n",
    "\n",
    "        newpos = [x + y for x, y in zip(pos1, vec)]\n",
    "        linkatom.set_position(newpos, units=\"bohr\")\n",
    "\n",
    "        # Add in the hydrogen version\n",
    "        linkatom.sym = \"H\"\n",
    "        linkatom[\"name\"] = \"H\"\n",
    "        linkatom.is_link = True\n",
    "        sys[\"LIG:0\"] += [linkatom]\n",
    "\n",
    "        systems[geom] = deepcopy(sys)"
   ]
  },
  {
   "cell_type": "markdown",
   "metadata": {},
   "source": [
    "## BigDFT Calculation\n",
    "Here we run a calculation on just the Ligand using BigDFT."
   ]
  },
  {
   "cell_type": "code",
   "execution_count": 6,
   "metadata": {},
   "outputs": [],
   "source": [
    "from BigDFT.Inputfiles import Inputfile\n",
    "from BigDFT.Calculators import SystemCalculator"
   ]
  },
  {
   "cell_type": "code",
   "execution_count": 7,
   "metadata": {},
   "outputs": [],
   "source": [
    "inp = Inputfile()\n",
    "inp.set_hgrid(0.4)\n",
    "inp.set_xc(\"PBE\")\n",
    "inp.write_support_function_matrices()\n",
    "inp[\"import\"] = \"linear\"\n",
    "inp[\"lin_general\"][\"output_coeff\"] = 1"
   ]
  },
  {
   "cell_type": "code",
   "execution_count": 8,
   "metadata": {},
   "outputs": [
    {
     "name": "stdout",
     "output_type": "stream",
     "text": [
      "Initialize a Calculator with OMP_NUM_THREADS=2 and command mpirun -np 1 /Users/dawson/Documents/CEA/Binaries/bds/install/bin/bigdft\n"
     ]
    }
   ],
   "source": [
    "code = SystemCalculator()\n",
    "code.update_global_options(skip=True)\n",
    "# code.update_global_options(dry_run=True)"
   ]
  },
  {
   "cell_type": "code",
   "execution_count": 9,
   "metadata": {},
   "outputs": [
    {
     "name": "stdout",
     "output_type": "stream",
     "text": [
      "Creating the yaml input file \"ligand_run/Mpro-x0072.yaml\"\n",
      "Run directory ligand_run\n",
      "Executing command:  mpirun -np 1 /Users/dawson/Documents/CEA/Binaries/bds/install/bin/bigdft -n Mpro-x0072 -s Yes\n",
      "Creating the yaml input file \"ligand_run/Mpro-x0104.yaml\"\n",
      "Run directory ligand_run\n",
      "Executing command:  mpirun -np 1 /Users/dawson/Documents/CEA/Binaries/bds/install/bin/bigdft -n Mpro-x0104 -s Yes\n",
      "Creating the yaml input file \"ligand_run/Mpro-x0107.yaml\"\n",
      "Run directory ligand_run\n",
      "Executing command:  mpirun -np 1 /Users/dawson/Documents/CEA/Binaries/bds/install/bin/bigdft -n Mpro-x0107 -s Yes\n",
      "Creating the yaml input file \"ligand_run/Mpro-x0161.yaml\"\n",
      "Run directory ligand_run\n",
      "Executing command:  mpirun -np 1 /Users/dawson/Documents/CEA/Binaries/bds/install/bin/bigdft -n Mpro-x0161 -s Yes\n",
      "Creating the yaml input file \"ligand_run/Mpro-x0195.yaml\"\n",
      "Run directory ligand_run\n",
      "Executing command:  mpirun -np 1 /Users/dawson/Documents/CEA/Binaries/bds/install/bin/bigdft -n Mpro-x0195 -s Yes\n",
      "Creating the yaml input file \"ligand_run/Mpro-x0305.yaml\"\n",
      "Run directory ligand_run\n",
      "Executing command:  mpirun -np 1 /Users/dawson/Documents/CEA/Binaries/bds/install/bin/bigdft -n Mpro-x0305 -s Yes\n",
      "Creating the yaml input file \"ligand_run/Mpro-x0354.yaml\"\n",
      "Run directory ligand_run\n",
      "Executing command:  mpirun -np 1 /Users/dawson/Documents/CEA/Binaries/bds/install/bin/bigdft -n Mpro-x0354 -s Yes\n",
      "Creating the yaml input file \"ligand_run/Mpro-x0387.yaml\"\n",
      "Run directory ligand_run\n",
      "Executing command:  mpirun -np 1 /Users/dawson/Documents/CEA/Binaries/bds/install/bin/bigdft -n Mpro-x0387 -s Yes\n",
      "Creating the yaml input file \"ligand_run/Mpro-x0395.yaml\"\n",
      "Run directory ligand_run\n",
      "Executing command:  mpirun -np 1 /Users/dawson/Documents/CEA/Binaries/bds/install/bin/bigdft -n Mpro-x0395 -s Yes\n",
      "Creating the yaml input file \"ligand_run/Mpro-x0397.yaml\"\n",
      "Run directory ligand_run\n",
      "Executing command:  mpirun -np 1 /Users/dawson/Documents/CEA/Binaries/bds/install/bin/bigdft -n Mpro-x0397 -s Yes\n",
      "Creating the yaml input file \"ligand_run/Mpro-x0426.yaml\"\n",
      "Run directory ligand_run\n",
      "Executing command:  mpirun -np 1 /Users/dawson/Documents/CEA/Binaries/bds/install/bin/bigdft -n Mpro-x0426 -s Yes\n",
      "Creating the yaml input file \"ligand_run/Mpro-x0434.yaml\"\n",
      "Run directory ligand_run\n",
      "Executing command:  mpirun -np 1 /Users/dawson/Documents/CEA/Binaries/bds/install/bin/bigdft -n Mpro-x0434 -s Yes\n",
      "Creating the yaml input file \"ligand_run/Mpro-x0540.yaml\"\n",
      "Run directory ligand_run\n",
      "Executing command:  mpirun -np 1 /Users/dawson/Documents/CEA/Binaries/bds/install/bin/bigdft -n Mpro-x0540 -s Yes\n",
      "Creating the yaml input file \"ligand_run/Mpro-x0678.yaml\"\n",
      "Run directory ligand_run\n",
      "Executing command:  mpirun -np 1 /Users/dawson/Documents/CEA/Binaries/bds/install/bin/bigdft -n Mpro-x0678 -s Yes\n",
      "Creating the yaml input file \"ligand_run/Mpro-x0874.yaml\"\n",
      "Run directory ligand_run\n",
      "Executing command:  mpirun -np 1 /Users/dawson/Documents/CEA/Binaries/bds/install/bin/bigdft -n Mpro-x0874 -s Yes\n",
      "Creating the yaml input file \"ligand_run/Mpro-x0946.yaml\"\n",
      "Run directory ligand_run\n",
      "Executing command:  mpirun -np 1 /Users/dawson/Documents/CEA/Binaries/bds/install/bin/bigdft -n Mpro-x0946 -s Yes\n",
      "Creating the yaml input file \"ligand_run/Mpro-x0967.yaml\"\n",
      "Run directory ligand_run\n",
      "Executing command:  mpirun -np 1 /Users/dawson/Documents/CEA/Binaries/bds/install/bin/bigdft -n Mpro-x0967 -s Yes\n",
      "Creating the yaml input file \"ligand_run/Mpro-x0991.yaml\"\n",
      "Run directory ligand_run\n",
      "Executing command:  mpirun -np 1 /Users/dawson/Documents/CEA/Binaries/bds/install/bin/bigdft -n Mpro-x0991 -s Yes\n",
      "Creating the yaml input file \"ligand_run/Mpro-x0995.yaml\"\n",
      "Run directory ligand_run\n",
      "Executing command:  mpirun -np 1 /Users/dawson/Documents/CEA/Binaries/bds/install/bin/bigdft -n Mpro-x0995 -s Yes\n",
      "Creating the yaml input file \"ligand_run/Mpro-x1077.yaml\"\n",
      "Run directory ligand_run\n",
      "Executing command:  mpirun -np 1 /Users/dawson/Documents/CEA/Binaries/bds/install/bin/bigdft -n Mpro-x1077 -s Yes\n",
      "Creating the yaml input file \"ligand_run/Mpro-x1093.yaml\"\n",
      "Run directory ligand_run\n",
      "Executing command:  mpirun -np 1 /Users/dawson/Documents/CEA/Binaries/bds/install/bin/bigdft -n Mpro-x1093 -s Yes\n",
      "Creating the yaml input file \"ligand_run/Mpro-x1249.yaml\"\n",
      "Run directory ligand_run\n",
      "Executing command:  mpirun -np 1 /Users/dawson/Documents/CEA/Binaries/bds/install/bin/bigdft -n Mpro-x1249 -s Yes\n",
      "Creating the yaml input file \"ligand_run/Mpro-x0689.yaml\"\n",
      "Run directory ligand_run\n",
      "Executing command:  mpirun -np 1 /Users/dawson/Documents/CEA/Binaries/bds/install/bin/bigdft -n Mpro-x0689 -s Yes\n",
      "Creating the yaml input file \"ligand_run/Mpro-x0691.yaml\"\n",
      "Run directory ligand_run\n",
      "Executing command:  mpirun -np 1 /Users/dawson/Documents/CEA/Binaries/bds/install/bin/bigdft -n Mpro-x0691 -s Yes\n",
      "Creating the yaml input file \"ligand_run/Mpro-x0692.yaml\"\n",
      "Run directory ligand_run\n",
      "Executing command:  mpirun -np 1 /Users/dawson/Documents/CEA/Binaries/bds/install/bin/bigdft -n Mpro-x0692 -s Yes\n",
      "Creating the yaml input file \"ligand_run/Mpro-x0705.yaml\"\n",
      "Run directory ligand_run\n",
      "Executing command:  mpirun -np 1 /Users/dawson/Documents/CEA/Binaries/bds/install/bin/bigdft -n Mpro-x0705 -s Yes\n",
      "Creating the yaml input file \"ligand_run/Mpro-x0708.yaml\"\n",
      "Run directory ligand_run\n",
      "Executing command:  mpirun -np 1 /Users/dawson/Documents/CEA/Binaries/bds/install/bin/bigdft -n Mpro-x0708 -s Yes\n",
      "Creating the yaml input file \"ligand_run/Mpro-x0731.yaml\"\n",
      "Run directory ligand_run\n",
      "Executing command:  mpirun -np 1 /Users/dawson/Documents/CEA/Binaries/bds/install/bin/bigdft -n Mpro-x0731 -s Yes\n",
      "Creating the yaml input file \"ligand_run/Mpro-x0734.yaml\"\n",
      "Run directory ligand_run\n",
      "Executing command:  mpirun -np 1 /Users/dawson/Documents/CEA/Binaries/bds/install/bin/bigdft -n Mpro-x0734 -s Yes\n",
      "Creating the yaml input file \"ligand_run/Mpro-x0736.yaml\"\n",
      "Run directory ligand_run\n",
      "Executing command:  mpirun -np 1 /Users/dawson/Documents/CEA/Binaries/bds/install/bin/bigdft -n Mpro-x0736 -s Yes\n",
      "Creating the yaml input file \"ligand_run/Mpro-x0749.yaml\"\n",
      "Run directory ligand_run\n",
      "Executing command:  mpirun -np 1 /Users/dawson/Documents/CEA/Binaries/bds/install/bin/bigdft -n Mpro-x0749 -s Yes\n",
      "Creating the yaml input file \"ligand_run/Mpro-x0752.yaml\"\n",
      "Run directory ligand_run\n",
      "Executing command:  mpirun -np 1 /Users/dawson/Documents/CEA/Binaries/bds/install/bin/bigdft -n Mpro-x0752 -s Yes\n",
      "Creating the yaml input file \"ligand_run/Mpro-x0755.yaml\"\n",
      "Run directory ligand_run\n",
      "Executing command:  mpirun -np 1 /Users/dawson/Documents/CEA/Binaries/bds/install/bin/bigdft -n Mpro-x0755 -s Yes\n",
      "Creating the yaml input file \"ligand_run/Mpro-x0759.yaml\"\n",
      "Run directory ligand_run\n",
      "Executing command:  mpirun -np 1 /Users/dawson/Documents/CEA/Binaries/bds/install/bin/bigdft -n Mpro-x0759 -s Yes\n",
      "Creating the yaml input file \"ligand_run/Mpro-x0769.yaml\"\n",
      "Run directory ligand_run\n",
      "Executing command:  mpirun -np 1 /Users/dawson/Documents/CEA/Binaries/bds/install/bin/bigdft -n Mpro-x0769 -s Yes\n",
      "Creating the yaml input file \"ligand_run/Mpro-x0770.yaml\"\n",
      "Run directory ligand_run\n",
      "Executing command:  mpirun -np 1 /Users/dawson/Documents/CEA/Binaries/bds/install/bin/bigdft -n Mpro-x0770 -s Yes\n",
      "Creating the yaml input file \"ligand_run/Mpro-x0771.yaml\"\n",
      "Run directory ligand_run\n",
      "Executing command:  mpirun -np 1 /Users/dawson/Documents/CEA/Binaries/bds/install/bin/bigdft -n Mpro-x0771 -s Yes\n",
      "Creating the yaml input file \"ligand_run/Mpro-x0774.yaml\"\n",
      "Run directory ligand_run\n",
      "Executing command:  mpirun -np 1 /Users/dawson/Documents/CEA/Binaries/bds/install/bin/bigdft -n Mpro-x0774 -s Yes\n",
      "Creating the yaml input file \"ligand_run/Mpro-x0786.yaml\"\n",
      "Run directory ligand_run\n",
      "Executing command:  mpirun -np 1 /Users/dawson/Documents/CEA/Binaries/bds/install/bin/bigdft -n Mpro-x0786 -s Yes\n",
      "Creating the yaml input file \"ligand_run/Mpro-x0820.yaml\"\n",
      "Run directory ligand_run\n",
      "Executing command:  mpirun -np 1 /Users/dawson/Documents/CEA/Binaries/bds/install/bin/bigdft -n Mpro-x0820 -s Yes\n",
      "Creating the yaml input file \"ligand_run/Mpro-x0830.yaml\"\n",
      "Run directory ligand_run\n",
      "Executing command:  mpirun -np 1 /Users/dawson/Documents/CEA/Binaries/bds/install/bin/bigdft -n Mpro-x0830 -s Yes\n",
      "Creating the yaml input file \"ligand_run/Mpro-x0831.yaml\"\n",
      "Run directory ligand_run\n",
      "Executing command:  mpirun -np 1 /Users/dawson/Documents/CEA/Binaries/bds/install/bin/bigdft -n Mpro-x0831 -s Yes\n"
     ]
    },
    {
     "name": "stdout",
     "output_type": "stream",
     "text": [
      "Creating the yaml input file \"ligand_run/Mpro-x0978.yaml\"\n",
      "Run directory ligand_run\n",
      "Executing command:  mpirun -np 1 /Users/dawson/Documents/CEA/Binaries/bds/install/bin/bigdft -n Mpro-x0978 -s Yes\n",
      "Creating the yaml input file \"ligand_run/Mpro-x0981.yaml\"\n",
      "Run directory ligand_run\n",
      "Executing command:  mpirun -np 1 /Users/dawson/Documents/CEA/Binaries/bds/install/bin/bigdft -n Mpro-x0981 -s Yes\n",
      "Creating the yaml input file \"ligand_run/Mpro-x1308.yaml\"\n",
      "Run directory ligand_run\n",
      "Executing command:  mpirun -np 1 /Users/dawson/Documents/CEA/Binaries/bds/install/bin/bigdft -n Mpro-x1308 -s Yes\n",
      "Creating the yaml input file \"ligand_run/Mpro-x1311.yaml\"\n",
      "Run directory ligand_run\n",
      "Executing command:  mpirun -np 1 /Users/dawson/Documents/CEA/Binaries/bds/install/bin/bigdft -n Mpro-x1311 -s Yes\n",
      "Creating the yaml input file \"ligand_run/Mpro-x1334.yaml\"\n",
      "Run directory ligand_run\n",
      "Executing command:  mpirun -np 1 /Users/dawson/Documents/CEA/Binaries/bds/install/bin/bigdft -n Mpro-x1334 -s Yes\n",
      "Creating the yaml input file \"ligand_run/Mpro-x1336.yaml\"\n",
      "Run directory ligand_run\n",
      "Executing command:  mpirun -np 1 /Users/dawson/Documents/CEA/Binaries/bds/install/bin/bigdft -n Mpro-x1336 -s Yes\n",
      "Creating the yaml input file \"ligand_run/Mpro-x1348.yaml\"\n",
      "Run directory ligand_run\n",
      "Executing command:  mpirun -np 1 /Users/dawson/Documents/CEA/Binaries/bds/install/bin/bigdft -n Mpro-x1348 -s Yes\n",
      "Creating the yaml input file \"ligand_run/Mpro-x1351.yaml\"\n",
      "Run directory ligand_run\n",
      "Executing command:  mpirun -np 1 /Users/dawson/Documents/CEA/Binaries/bds/install/bin/bigdft -n Mpro-x1351 -s Yes\n",
      "Creating the yaml input file \"ligand_run/Mpro-x1358.yaml\"\n",
      "Run directory ligand_run\n",
      "Executing command:  mpirun -np 1 /Users/dawson/Documents/CEA/Binaries/bds/install/bin/bigdft -n Mpro-x1358 -s Yes\n",
      "Creating the yaml input file \"ligand_run/Mpro-x1374.yaml\"\n",
      "Run directory ligand_run\n",
      "Executing command:  mpirun -np 1 /Users/dawson/Documents/CEA/Binaries/bds/install/bin/bigdft -n Mpro-x1374 -s Yes\n",
      "Creating the yaml input file \"ligand_run/Mpro-x1375.yaml\"\n",
      "Run directory ligand_run\n",
      "Executing command:  mpirun -np 1 /Users/dawson/Documents/CEA/Binaries/bds/install/bin/bigdft -n Mpro-x1375 -s Yes\n",
      "Creating the yaml input file \"ligand_run/Mpro-x1380.yaml\"\n",
      "Run directory ligand_run\n",
      "Executing command:  mpirun -np 1 /Users/dawson/Documents/CEA/Binaries/bds/install/bin/bigdft -n Mpro-x1380 -s Yes\n",
      "Creating the yaml input file \"ligand_run/Mpro-x1382.yaml\"\n",
      "Run directory ligand_run\n",
      "Executing command:  mpirun -np 1 /Users/dawson/Documents/CEA/Binaries/bds/install/bin/bigdft -n Mpro-x1382 -s Yes\n",
      "Creating the yaml input file \"ligand_run/Mpro-x1384.yaml\"\n",
      "Run directory ligand_run\n",
      "Executing command:  mpirun -np 1 /Users/dawson/Documents/CEA/Binaries/bds/install/bin/bigdft -n Mpro-x1384 -s Yes\n",
      "Creating the yaml input file \"ligand_run/Mpro-x1385.yaml\"\n",
      "Run directory ligand_run\n",
      "Executing command:  mpirun -np 1 /Users/dawson/Documents/CEA/Binaries/bds/install/bin/bigdft -n Mpro-x1385 -s Yes\n",
      "Creating the yaml input file \"ligand_run/Mpro-x1386.yaml\"\n",
      "Run directory ligand_run\n",
      "Executing command:  mpirun -np 1 /Users/dawson/Documents/CEA/Binaries/bds/install/bin/bigdft -n Mpro-x1386 -s Yes\n",
      "Creating the yaml input file \"ligand_run/Mpro-x1392.yaml\"\n",
      "Run directory ligand_run\n",
      "Executing command:  mpirun -np 1 /Users/dawson/Documents/CEA/Binaries/bds/install/bin/bigdft -n Mpro-x1392 -s Yes\n",
      "Creating the yaml input file \"ligand_run/Mpro-x1402.yaml\"\n",
      "Run directory ligand_run\n",
      "Executing command:  mpirun -np 1 /Users/dawson/Documents/CEA/Binaries/bds/install/bin/bigdft -n Mpro-x1402 -s Yes\n",
      "Creating the yaml input file \"ligand_run/Mpro-x1412.yaml\"\n",
      "Run directory ligand_run\n",
      "Executing command:  mpirun -np 1 /Users/dawson/Documents/CEA/Binaries/bds/install/bin/bigdft -n Mpro-x1412 -s Yes\n",
      "Creating the yaml input file \"ligand_run/Mpro-x1418.yaml\"\n",
      "Run directory ligand_run\n",
      "Executing command:  mpirun -np 1 /Users/dawson/Documents/CEA/Binaries/bds/install/bin/bigdft -n Mpro-x1418 -s Yes\n",
      "Creating the yaml input file \"ligand_run/Mpro-x1425.yaml\"\n",
      "Run directory ligand_run\n",
      "Executing command:  mpirun -np 1 /Users/dawson/Documents/CEA/Binaries/bds/install/bin/bigdft -n Mpro-x1425 -s Yes\n",
      "Creating the yaml input file \"ligand_run/Mpro-x1458.yaml\"\n",
      "Run directory ligand_run\n",
      "Executing command:  mpirun -np 1 /Users/dawson/Documents/CEA/Binaries/bds/install/bin/bigdft -n Mpro-x1458 -s Yes\n",
      "Creating the yaml input file \"ligand_run/Mpro-x1478.yaml\"\n",
      "Run directory ligand_run\n",
      "Executing command:  mpirun -np 1 /Users/dawson/Documents/CEA/Binaries/bds/install/bin/bigdft -n Mpro-x1478 -s Yes\n",
      "Creating the yaml input file \"ligand_run/Mpro-x1493.yaml\"\n",
      "Run directory ligand_run\n",
      "Executing command:  mpirun -np 1 /Users/dawson/Documents/CEA/Binaries/bds/install/bin/bigdft -n Mpro-x1493 -s Yes\n",
      "Creating the yaml input file \"ligand_run/Mpro-x0887.yaml\"\n",
      "Run directory ligand_run\n",
      "Executing command:  mpirun -np 1 /Users/dawson/Documents/CEA/Binaries/bds/install/bin/bigdft -n Mpro-x0887 -s Yes\n",
      "Creating the yaml input file \"ligand_run/Mpro-x1187.yaml\"\n",
      "Run directory ligand_run\n",
      "Executing command:  mpirun -np 1 /Users/dawson/Documents/CEA/Binaries/bds/install/bin/bigdft -n Mpro-x1187 -s Yes\n",
      "Creating the yaml input file \"ligand_run/Mpro-x1012.yaml\"\n",
      "Run directory ligand_run\n",
      "Executing command:  mpirun -np 1 /Users/dawson/Documents/CEA/Binaries/bds/install/bin/bigdft -n Mpro-x1012 -s Yes\n",
      "Creating the yaml input file \"ligand_run/Mpro-x0390.yaml\"\n",
      "Run directory ligand_run\n",
      "Executing command:  mpirun -np 1 /Users/dawson/Documents/CEA/Binaries/bds/install/bin/bigdft -n Mpro-x0390 -s Yes\n",
      "Creating the yaml input file \"ligand_run/Mpro-x0464.yaml\"\n",
      "Run directory ligand_run\n",
      "Executing command:  mpirun -np 1 /Users/dawson/Documents/CEA/Binaries/bds/install/bin/bigdft -n Mpro-x0464 -s Yes\n",
      "Creating the yaml input file \"ligand_run/Mpro-x0425.yaml\"\n",
      "Run directory ligand_run\n",
      "Executing command:  mpirun -np 1 /Users/dawson/Documents/CEA/Binaries/bds/install/bin/bigdft -n Mpro-x0425 -s Yes\n",
      "Creating the yaml input file \"ligand_run/Mpro-x0398.yaml\"\n",
      "Run directory ligand_run\n",
      "Executing command:  mpirun -np 1 /Users/dawson/Documents/CEA/Binaries/bds/install/bin/bigdft -n Mpro-x0398 -s Yes\n",
      "Creating the yaml input file \"ligand_run/Mpro-x0669.yaml\"\n",
      "Run directory ligand_run\n",
      "Executing command:  mpirun -np 1 /Users/dawson/Documents/CEA/Binaries/bds/install/bin/bigdft -n Mpro-x0669 -s Yes\n",
      "Creating the yaml input file \"ligand_run/Mpro-x1163.yaml\"\n",
      "Run directory ligand_run\n",
      "Executing command:  mpirun -np 1 /Users/dawson/Documents/CEA/Binaries/bds/install/bin/bigdft -n Mpro-x1163 -s Yes\n",
      "Creating the yaml input file \"ligand_run/Mpro-x0478.yaml\"\n",
      "Run directory ligand_run\n",
      "Executing command:  mpirun -np 1 /Users/dawson/Documents/CEA/Binaries/bds/install/bin/bigdft -n Mpro-x0478 -s Yes\n",
      "Creating the yaml input file \"ligand_run/Mpro-x0177.yaml\"\n",
      "Run directory ligand_run\n",
      "Executing command:  mpirun -np 1 /Users/dawson/Documents/CEA/Binaries/bds/install/bin/bigdft -n Mpro-x0177 -s Yes\n",
      "Creating the yaml input file \"ligand_run/Mpro-x0194.yaml\"\n",
      "Run directory ligand_run\n",
      "Executing command:  mpirun -np 1 /Users/dawson/Documents/CEA/Binaries/bds/install/bin/bigdft -n Mpro-x0194 -s Yes\n",
      "Creating the yaml input file \"ligand_run/Mpro-x1226.yaml\"\n",
      "Run directory ligand_run\n",
      "Executing command:  mpirun -np 1 /Users/dawson/Documents/CEA/Binaries/bds/install/bin/bigdft -n Mpro-x1226 -s Yes\n",
      "Creating the yaml input file \"ligand_run/Mpro-x1235.yaml\"\n",
      "Run directory ligand_run\n",
      "Executing command:  mpirun -np 1 /Users/dawson/Documents/CEA/Binaries/bds/install/bin/bigdft -n Mpro-x1235 -s Yes\n",
      "Creating the yaml input file \"ligand_run/Mpro-x0350.yaml\"\n",
      "Run directory ligand_run\n",
      "Executing command:  mpirun -np 1 /Users/dawson/Documents/CEA/Binaries/bds/install/bin/bigdft -n Mpro-x0350 -s Yes\n",
      "Creating the yaml input file \"ligand_run/Mpro-x1002.yaml\"\n",
      "Run directory ligand_run\n",
      "Executing command:  mpirun -np 1 /Users/dawson/Documents/CEA/Binaries/bds/install/bin/bigdft -n Mpro-x1002 -s Yes\n",
      "Creating the yaml input file \"ligand_run/Mpro-x1132.yaml\"\n",
      "Run directory ligand_run\n",
      "Executing command:  mpirun -np 1 /Users/dawson/Documents/CEA/Binaries/bds/install/bin/bigdft -n Mpro-x1132 -s Yes\n",
      "Creating the yaml input file \"ligand_run/Mpro-x1237.yaml\"\n",
      "Run directory ligand_run\n",
      "Executing command:  mpirun -np 1 /Users/dawson/Documents/CEA/Binaries/bds/install/bin/bigdft -n Mpro-x1237 -s Yes\n"
     ]
    },
    {
     "name": "stdout",
     "output_type": "stream",
     "text": [
      "Creating the yaml input file \"ligand_run/Mpro-x0499.yaml\"\n",
      "Run directory ligand_run\n",
      "Executing command:  mpirun -np 1 /Users/dawson/Documents/CEA/Binaries/bds/install/bin/bigdft -n Mpro-x0499 -s Yes\n",
      "Creating the yaml input file \"ligand_run/Mpro-x1119.yaml\"\n",
      "Run directory ligand_run\n",
      "Executing command:  mpirun -np 1 /Users/dawson/Documents/CEA/Binaries/bds/install/bin/bigdft -n Mpro-x1119 -s Yes\n",
      "Creating the yaml input file \"ligand_run/Mpro-x0376.yaml\"\n",
      "Run directory ligand_run\n",
      "Executing command:  mpirun -np 1 /Users/dawson/Documents/CEA/Binaries/bds/install/bin/bigdft -n Mpro-x0376 -s Yes\n",
      "Creating the yaml input file \"ligand_run/Mpro-x0165.yaml\"\n",
      "Run directory ligand_run\n",
      "Executing command:  mpirun -np 1 /Users/dawson/Documents/CEA/Binaries/bds/install/bin/bigdft -n Mpro-x0165 -s Yes\n",
      "Creating the yaml input file \"ligand_run/Mpro-x0336.yaml\"\n",
      "Run directory ligand_run\n",
      "Executing command:  mpirun -np 1 /Users/dawson/Documents/CEA/Binaries/bds/install/bin/bigdft -n Mpro-x0336 -s Yes\n",
      "Creating the yaml input file \"ligand_run/Mpro-x1086.yaml\"\n",
      "Run directory ligand_run\n",
      "Executing command:  mpirun -np 1 /Users/dawson/Documents/CEA/Binaries/bds/install/bin/bigdft -n Mpro-x1086 -s Yes\n",
      "Creating the yaml input file \"ligand_run/Mpro-x1101-0.yaml\"\n",
      "Run directory ligand_run\n",
      "Executing command:  mpirun -np 1 /Users/dawson/Documents/CEA/Binaries/bds/install/bin/bigdft -n Mpro-x1101-0 -s Yes\n",
      "Creating the yaml input file \"ligand_run/Mpro-x1101-1.yaml\"\n",
      "Run directory ligand_run\n",
      "Executing command:  mpirun -np 1 /Users/dawson/Documents/CEA/Binaries/bds/install/bin/bigdft -n Mpro-x1101-1 -s Yes\n"
     ]
    }
   ],
   "source": [
    "logs = {}\n",
    "for geom in data[\"Crystal ID\"]:\n",
    "    logs[geom] = code.run(input=inp, posinp=systems[geom].get_posinp(), name=geom, run_dir=ligdir)"
   ]
  },
  {
   "cell_type": "markdown",
   "metadata": {},
   "source": [
    "## Auto Fragmentation\n",
    "Now we perform auto-fragmentation on each ligand."
   ]
  },
  {
   "cell_type": "code",
   "execution_count": 10,
   "metadata": {},
   "outputs": [],
   "source": [
    "from BigDFT.PostProcessing import BigDFTool\n",
    "btool = BigDFTool()"
   ]
  },
  {
   "cell_type": "code",
   "execution_count": 21,
   "metadata": {},
   "outputs": [],
   "source": [
    "def iterative_fragment(sys, log, iterations):\n",
    "    from scipy.io import mmread\n",
    "    from copy import deepcopy\n",
    "    from BigDFT.Systems import System\n",
    "    from BigDFT.Fragments import Fragment\n",
    "\n",
    "    datadir = join(log.srcdir, log.data_directory)\n",
    "    k = mmread(join(datadir, \"density_kernel_sparse.mtx\"))\n",
    "    s = mmread(join(datadir, \"overlap_sparse.mtx\"))\n",
    "    kxs = k.dot(s)\n",
    "    \n",
    "    atsys = System()\n",
    "    for i, at in enumerate(sys[\"LIG:0\"]):\n",
    "        atsys[\"ATOM:\"+str(i)] = Fragment([at])\n",
    "    resys = deepcopy(atsys)\n",
    "    \n",
    "    pv = btool.run_compute_purity(resys, log, kxs=kxs)\n",
    "    bo = btool.fragment_bond_order(resys, resys.keys(), resys.keys(), log, kxs=kxs)\n",
    "\n",
    "    worst_pv = min(pv.values())\n",
    "    worst_size = len(list(sys.keys()))\n",
    "    \n",
    "    for i in range(iterations):\n",
    "        newsys = btool.auto_fragment(atsys, pv, bo, 0.05, rand=True, criteria=\"distance\")\n",
    "        if worst_size < len(list(newsys.keys())):\n",
    "            resys = newsys\n",
    "        elif worst_size == len(list(newsys.keys())):\n",
    "            new_pv = {x: y.purity_indicator for x, y in newsys.items()}\n",
    "            if worst_pv < min(new_pv.values()):\n",
    "                resys = newsys\n",
    "        \n",
    "    return_sys = System()\n",
    "    for i, fragid in enumerate(resys):\n",
    "        return_sys[\"LIG:\"+str(i)] = resys[fragid]\n",
    "    return return_sys"
   ]
  },
  {
   "cell_type": "code",
   "execution_count": 41,
   "metadata": {},
   "outputs": [],
   "source": [
    "from BigDFT.IO import write_pdb\n",
    "from pickle import dump\n",
    "\n",
    "frag_sys = {}\n",
    "for geom in data[\"Crystal ID\"]:\n",
    "    pname1 = join(tempdir, geom+\"-fragment.pdb\")\n",
    "    pname2 = join(tempdir, geom+\"-fragment.pickle\")\n",
    "    if exists(pname1) and exists(pname2):\n",
    "        with open(pname2, \"rb\") as ifile:\n",
    "            frag_sys[geom] = load(ifile)\n",
    "    else:\n",
    "        frag_sys[geom] = iterative_fragment(systems[geom], logs[geom], 1000)\n",
    "        if len(frag_sys[geom]) == 1:\n",
    "             frag_sys[geom] = iterative_fragment(systems[geom], logs[geom], 10000)\n",
    "        if len(frag_sys[geom]) == 1:\n",
    "             frag_sys[geom] = iterative_fragment(systems[geom], logs[geom], 50000)\n",
    "        with open(pname1, \"w\") as ofile:\n",
    "            write_pdb(frag_sys[geom], ofile)\n",
    "        with open(pname2, \"wb\") as ofile:\n",
    "            dump(frag_sys[geom], ofile)"
   ]
  },
  {
   "cell_type": "markdown",
   "metadata": {},
   "source": [
    "Summarize the number of fragments."
   ]
  },
  {
   "cell_type": "code",
   "execution_count": 42,
   "metadata": {},
   "outputs": [
    {
     "data": {
      "text/plain": [
       "[<matplotlib.lines.Line2D at 0x7fd5c98e6290>]"
      ]
     },
     "execution_count": 42,
     "metadata": {},
     "output_type": "execute_result"
    },
    {
     "data": {
      "image/png": "[encoded data removed]",
      "text/plain": [
       "<Figure size 432x288 with 1 Axes>"
      ]
     },
     "metadata": {
      "needs_background": "light"
     },
     "output_type": "display_data"
    }
   ],
   "source": [
    "from matplotlib import pyplot as plt\n",
    "fig, axs = plt.subplots(1,1)\n",
    "\n",
    "axs.set_ylabel(\"Number of Fragments\")\n",
    "axs.set_xlabel(\"Fragment Index\")\n",
    "\n",
    "axs.plot([len(x.keys()) for x in frag_sys.values()], 'x')"
   ]
  },
  {
   "cell_type": "code",
   "execution_count": 43,
   "metadata": {},
   "outputs": [
    {
     "data": {
      "text/plain": [
       "[<matplotlib.lines.Line2D at 0x7fd5c9cd1190>]"
      ]
     },
     "execution_count": 43,
     "metadata": {},
     "output_type": "execute_result"
    },
    {
     "data": {
      "image/png": "[encoded data removed]",
      "text/plain": [
       "<Figure size 432x288 with 1 Axes>"
      ]
     },
     "metadata": {
      "needs_background": "light"
     },
     "output_type": "display_data"
    }
   ],
   "source": [
    "fig, axs = plt.subplots(1,1)\n",
    "\n",
    "axs.set_ylabel(\"Number of Fragments\")\n",
    "axs.set_xlabel(\"Number of Atoms\")\n",
    "\n",
    "axs.plot([sum([len(x) for x in y.values()]) for y in frag_sys.values()], \n",
    "         [len(x.keys()) for x in frag_sys.values()], 'x')"
   ]
  },
  {
   "cell_type": "code",
   "execution_count": 45,
   "metadata": {},
   "outputs": [
    {
     "name": "stdout",
     "output_type": "stream",
     "text": [
      "Mpro-x0995 12\n",
      "Mpro-x1012 13\n",
      "Mpro-x1002 11\n",
      "Mpro-x1101-1 30\n"
     ]
    }
   ],
   "source": [
    "for f in frag_sys:\n",
    "    if len(frag_sys[f]) == 1:\n",
    "        print(f, len(frag_sys[f][\"LIG:0\"]))"
   ]
  },
  {
   "cell_type": "code",
   "execution_count": 46,
   "metadata": {},
   "outputs": [
    {
     "data": {
      "text/plain": [
       "[<matplotlib.lines.Line2D at 0x7fd5c9d5b390>]"
      ]
     },
     "execution_count": 46,
     "metadata": {},
     "output_type": "execute_result"
    },
    {
     "data": {
      "image/png": "[encoded data removed]",
      "text/plain": [
       "<Figure size 432x288 with 1 Axes>"
      ]
     },
     "metadata": {
      "needs_background": "light"
     },
     "output_type": "display_data"
    }
   ],
   "source": [
    "fig, axs = plt.subplots(1,1)\n",
    "\n",
    "axs.set_ylabel(\"Least Pure Fragment\")\n",
    "axs.set_xlabel(\"Fragment Index\")\n",
    "\n",
    "axs.plot([min([x.purity_indicator for x in y.values()]) for y in frag_sys.values()], 'x')"
   ]
  },
  {
   "cell_type": "markdown",
   "metadata": {},
   "source": [
    "## Fragment Images\n",
    "Last we will generate some iamges of these fragments."
   ]
  },
  {
   "cell_type": "code",
   "execution_count": 48,
   "metadata": {},
   "outputs": [],
   "source": [
    "from BigDFT.Systems import GetFragTuple\n",
    "from BigDFT.Visualization import _find_colours\n",
    "from os import system\n",
    "\n",
    "for geom in data[\"Crystal ID\"]:\n",
    "    oname1 = join(tempdir, geom+\"-autofrag.pml\")\n",
    "    oname2 = join(picdir, geom+\"-autofrag.png\")\n",
    "    \n",
    "    if exists(oname1) and exists(oname2):\n",
    "        continue\n",
    "        \n",
    "    with open(oname1, \"w\") as ofile:\n",
    "        ofile.write(\"load \" + join(tempdir, geom+\"-fragment.pdb\") + \"\\n\")\n",
    "        ofile.write(\"hide everything\\n\")\n",
    "        ofile.write(\"show licorice sticks\\n\")\n",
    "\n",
    "        clist = _find_colours(len(frag_sys[geom].keys()))\n",
    "\n",
    "        for i, fragid in enumerate(frag_sys[geom]):\n",
    "            fname, fid = GetFragTuple(fragid)\n",
    "            color = clist[\"html\"][i].replace(\"#\",\"0x\")\n",
    "            ofile.write(\"color \" + color + \", resid \" + str(fid) + \"\\n\")\n",
    "        ofile.write(\"bg_color white\\n\")\n",
    "        ofile.write(\"png \" + join(oname2) + \", width=10cm, dpi=300, ray=1\\n\")\n",
    "        ofile.write(\"quit\\n\")\n",
    "    system(\"pymol \" + oname1)"
   ]
  },
  {
   "cell_type": "markdown",
   "metadata": {},
   "source": [
    "## Writing Out The Fragments\n",
    "We here write out the fragments to a pdb file. To do so, we need to first remove the link atoms."
   ]
  },
  {
   "cell_type": "code",
   "execution_count": 50,
   "metadata": {},
   "outputs": [],
   "source": [
    "for geom, site in zip(data[\"Crystal ID\"], data[\"Site\"]):\n",
    "    pname = join(outdir, geom+\"-combined.pdb\")\n",
    "    if exists(pname):\n",
    "        continue\n",
    "    if \"cov\" in site:\n",
    "        sys = System()\n",
    "        for fragid, frag in frag_sys[geom].items():\n",
    "            sys[fragid] = Fragment()\n",
    "            for at in frag:\n",
    "                if not at.get(\"link_atom\", False):\n",
    "                    sys[fragid] += Fragment([at])\n",
    "    else:\n",
    "        sys = frag_sys[geom]\n",
    "        \n",
    "    ssys = System()\n",
    "    for fragid in sys:\n",
    "        f1, f2 = fragid.split(\":\")\n",
    "        ssys[f1+\":\"+str(int(f2) + 305)] = sys[fragid]\n",
    "        \n",
    "    outsys = deepcopy(fullsystems[geom])\n",
    "    outsys.pop(\"LIG:0\")\n",
    "    for fragid in ssys:\n",
    "        outsys[fragid] = ssys[fragid]\n",
    "    \n",
    "    with open(pname, \"w\") as ofile:\n",
    "        write_pdb(outsys, ofile)"
   ]
  },
  {
   "cell_type": "code",
   "execution_count": null,
   "metadata": {},
   "outputs": [],
   "source": []
  }
 ],
 "metadata": {
  "kernelspec": {
   "display_name": "Python 3",
   "language": "python",
   "name": "python3"
  },
  "language_info": {
   "codemirror_mode": {
    "name": "ipython",
    "version": 3
   },
   "file_extension": ".py",
   "mimetype": "text/x-python",
   "name": "python",
   "nbconvert_exporter": "python",
   "pygments_lexer": "ipython3",
   "version": "3.8.3"
  }
 },
 "nbformat": 4,
 "nbformat_minor": 4
}
