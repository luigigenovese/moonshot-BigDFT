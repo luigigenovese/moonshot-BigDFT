{
 "cells": [
  {
   "cell_type": "markdown",
   "metadata": {},
   "source": [
    "# PDB Preparer\n",
    "This notebook prepares the starting geometries. In this first cell we define the basic parameters."
   ]
  },
  {
   "cell_type": "code",
   "execution_count": 1,
   "metadata": {},
   "outputs": [],
   "source": [
    "from os.path import join, exists\n",
    "from futile.Utils import ensure_dir\n",
    "from os import system\n",
    "from os import environ\n",
    "\n",
    "geomdir = \"raw-structures\"\n",
    "tempdir = \"temp\"\n",
    "ensure_dir(tempdir)\n",
    "outdir = \"processed-structures\"\n",
    "ensure_dir(outdir)\n",
    "picdir = \"pictures\"\n",
    "ensure_dir(picdir)\n",
    "protonated = \"protonated\"\n",
    "ensure_dir(protonated)\n",
    "forcefield = \"mmff94\"\n",
    "babel_convergence = 1.0\n",
    "geom = environ.get(\"SYSTEM\", \"Mpro-x0305\")"
   ]
  },
  {
   "cell_type": "markdown",
   "metadata": {},
   "source": [
    "## Metadata Loading\n",
    "First we load in the metadata to know all the details of this system."
   ]
  },
  {
   "cell_type": "code",
   "execution_count": 2,
   "metadata": {},
   "outputs": [],
   "source": [
    "from pickle import load\n",
    "pname = \"updated-data.pickle\"\n",
    "with open(pname, \"rb\") as ifile:\n",
    "    data = load(ifile)"
   ]
  },
  {
   "cell_type": "code",
   "execution_count": 3,
   "metadata": {},
   "outputs": [],
   "source": [
    "row = data.loc[data['Crystal ID'] == geom]\n",
    "site = row[\"Site\"].iloc[0]\n",
    "link = row[\"Link\"].iloc[0]\n",
    "smi = row[\"Compound SMILES\"].iloc[0]\n",
    "msmi = row[\"Modified Compound SMILES\"].iloc[0]"
   ]
  },
  {
   "cell_type": "markdown",
   "metadata": {},
   "source": [
    "## Adding Hydrogens"
   ]
  },
  {
   "cell_type": "markdown",
   "metadata": {},
   "source": [
    "We begin with an initial run of pdbfixer which takes care of all the separate chains and occupancies."
   ]
  },
  {
   "cell_type": "code",
   "execution_count": 4,
   "metadata": {},
   "outputs": [],
   "source": [
    "def pdbfixer_basic(geom, outname):\n",
    "    system(\"pdbfixer \" + join(geomdir, geom+\".pdb\") + \n",
    "           \" --add-atoms=none --output=\" + outname)\n",
    "\n",
    "outname = join(tempdir, geom+\"-fix.pdb\")\n",
    "if not exists(outname):\n",
    "    pdbfixer_basic(geom, outname)"
   ]
  },
  {
   "cell_type": "markdown",
   "metadata": {},
   "source": [
    "Now we add hydrogens to the protein and remove the water/DMS/etc. We may need to loop if pdbfixer doesn't put them in good locations."
   ]
  },
  {
   "cell_type": "code",
   "execution_count": 5,
   "metadata": {},
   "outputs": [],
   "source": [
    "from os import remove\n",
    "from BigDFT.IO import write_pdb, read_pdb\n",
    "\n",
    "def pdbfixer_addh(geom, outname):\n",
    "    system(\"pdbfixer \" + join(tempdir, geom+\"-fix.pdb\") + \n",
    "           \" --add-atoms=hydrogen --output=\" + outname)\n",
    "    \n",
    "def clean_ligand_and_solution(inname, outname):\n",
    "    from copy import deepcopy\n",
    "    with open(inname) as ifile:\n",
    "        sys = read_pdb(ifile)\n",
    "    keys = deepcopy(list(sys.keys()))\n",
    "    for k in keys:\n",
    "        if \"LIG\" in k or \"DMS\" in k or \"HOH\" in k:\n",
    "            del sys[k]\n",
    "    with open(outname, \"w\") as ofile:\n",
    "        write_pdb(sys, ofile)\n",
    "    \n",
    "def check_forcefield(geomfile, outname):\n",
    "    system(\"obenergy -ff \" + forcefield + \" \" + geomfile + \n",
    "           \" > \" + outname)\n",
    "    \n",
    "def check_energy():\n",
    "    outname3 = join(tempdir, geom+\"-energy.txt\")\n",
    "    found = False\n",
    "    if not exists(outname3):\n",
    "        return False\n",
    "    with open(outname3) as ifile:\n",
    "        found = False\n",
    "        for line in ifile:\n",
    "            if \"TOTAL ENERGY\" in line:\n",
    "                found = True\n",
    "                break\n",
    "\n",
    "    return found\n",
    "\n",
    "finished = check_energy()\n",
    "while(not finished):\n",
    "    finished = True\n",
    "    outname1 = join(tempdir, geom+\"-fixh.pdb\")\n",
    "    pdbfixer_addh(geom, outname1)\n",
    "\n",
    "    inname = join(tempdir, geom+\"-fixh.pdb\")\n",
    "    outname2 = join(tempdir, geom+\"-cleaned.pdb\")\n",
    "    clean_ligand_and_solution(inname, outname2)\n",
    "\n",
    "    inname = join(tempdir, geom+\"-cleaned.pdb\")\n",
    "    outname3 = join(tempdir, geom+\"-energy.txt\")\n",
    "    check_forcefield(inname, outname3)\n",
    "\n",
    "    # Check for success\n",
    "    finished = check_energy()\n",
    "    if not finished:\n",
    "        print(\"Repeat: \", geom)\n",
    "        remove(outname1)\n",
    "        remove(outname2)\n",
    "        remove(outname3)"
   ]
  },
  {
   "cell_type": "markdown",
   "metadata": {},
   "source": [
    "Last we have to remove the hydrogen which has been cleaved when the ligand forms a covalent bond."
   ]
  },
  {
   "cell_type": "code",
   "execution_count": 6,
   "metadata": {},
   "outputs": [],
   "source": [
    "from numpy.linalg import norm\n",
    "from numpy import array, argmin, argsort\n",
    "\n",
    "iname = join(tempdir, geom+\"-cleaned.pdb\")\n",
    "oname = join(tempdir, geom+\"-cleaved.pdb\")\n",
    "\n",
    "with open(iname) as ifile:\n",
    "    sys = read_pdb(ifile)\n",
    "\n",
    "if \"covalent\" in site:\n",
    "    iname = join(tempdir, geom+\"-fixh.pdb\")\n",
    "    with open(iname) as ifile:\n",
    "        sys_with_lig = read_pdb(ifile)\n",
    "    ligname = [x for x in sys_with_lig.keys() if \"LIG\" in x][0]\n",
    "\n",
    "    # First find out which atom in the ligand is closest to the linking residue.\n",
    "    distlist = []\n",
    "    for i, at in enumerate(sys_with_lig[ligname]):\n",
    "        inner = [norm(array(x.get_position()) - array(at.get_position())) for x in sys_with_lig[link]]\n",
    "        distlist.append(min(inner))\n",
    "\n",
    "    # Now the second closest atom will the cleaved hydrogen.\n",
    "    minat = argmin(distlist)\n",
    "    outer = [norm(array(x.get_position()) - array(sys_with_lig[ligname][minat].get_position())) \n",
    "             for x in sys_with_lig[link]]\n",
    "    idx = argsort(outer)[1]\n",
    "\n",
    "    # Remove it and write to file\n",
    "    del sys[link][idx]\n",
    "\n",
    "if not exists(oname):\n",
    "    with open(oname, \"w\") as ofile:\n",
    "        write_pdb(sys, ofile)"
   ]
  },
  {
   "cell_type": "markdown",
   "metadata": {},
   "source": [
    "### Ligand Hydrogens"
   ]
  },
  {
   "cell_type": "markdown",
   "metadata": {},
   "source": [
    "Now write out the ligand without hydrogens including its bonding information."
   ]
  },
  {
   "cell_type": "code",
   "execution_count": 7,
   "metadata": {},
   "outputs": [],
   "source": [
    "from BigDFT.Systems import System\n",
    "\n",
    "iname = join(tempdir, geom+\"-fixh.pdb\")\n",
    "oname = join(tempdir, geom+\"-justligand.pdb\")\n",
    "oname2 = join(tempdir, geom+\"-justligand-babel.pdb\")\n",
    "\n",
    "with open(iname) as ifile:\n",
    "    sys = read_pdb(ifile)\n",
    "\n",
    "target = [x for x in sys.keys() if \"LIG\" in x][0]\n",
    "\n",
    "lsys = System()\n",
    "lsys[target] = sys[target]\n",
    "\n",
    "if not exists(oname):\n",
    "    with open(oname, 'w') as ofile:\n",
    "        write_pdb(lsys, ofile)\n",
    "\n",
    "if not exists(oname2):\n",
    "    system(\"obabel -ipdb \" + oname + \" -h -opdb > \" + oname2)"
   ]
  },
  {
   "cell_type": "markdown",
   "metadata": {},
   "source": [
    "Add everything together into one big system, and reoptimize the hydrogen atoms of the ligand an its covalent link."
   ]
  },
  {
   "cell_type": "code",
   "execution_count": 8,
   "metadata": {},
   "outputs": [],
   "source": [
    "def constrained_optimization_xtb(sys):\n",
    "    from BigDFT.XTBInterop import XTBCalculator\n",
    "    code = XTBCalculator(verbose=True)\n",
    "    constr = {}\n",
    "    for fragid, frag in sys.items():\n",
    "        constr[fragid] = []\n",
    "        for at in frag:\n",
    "            constr[fragid].append(at.sym != \"H\")\n",
    "    code.run(sys=sys, name=geom, run_dir=tempdir, opt=True,\n",
    "             uhf=2, constraints=constr)\n",
    "    return code.get_optimized_geometry()"
   ]
  },
  {
   "cell_type": "code",
   "execution_count": 9,
   "metadata": {},
   "outputs": [],
   "source": [
    "from numpy import argsort\n",
    "oname = join(protonated, geom+\"-protonated.pdb\")\n",
    "\n",
    "inname = join(tempdir, geom+\"-cleaved.pdb\")\n",
    "with open(inname) as ifile:\n",
    "    sys = read_pdb(ifile)\n",
    "\n",
    "inname = join(tempdir, geom+\"-justligand-babel.pdb\")\n",
    "with open(inname) as ifile:\n",
    "    lsys = read_pdb(ifile)\n",
    "lsys_target = list(lsys.keys())[0]\n",
    "\n",
    "# Remove link hydrogen and realign covalent bond\n",
    "if \"cov\" in site:\n",
    "    def find_nearest(subsys, target, h):\n",
    "        distlist = []\n",
    "        for i, at in enumerate(subsys[target]):\n",
    "            inner = [norm(array(x.get_position()) - array(at.get_position())) for x in sys[link]]\n",
    "            distlist.append(min(inner))\n",
    "        minat = argsort(distlist)\n",
    "\n",
    "        idx = None\n",
    "        if not h:\n",
    "            if (subsys[target][minat[0]].sym != 'H'):\n",
    "                idx = minat[0]\n",
    "            elif (subsys[target][minat[1]].sym != 'H'):\n",
    "                idx = minat[1]\n",
    "        else:\n",
    "            if (subsys[target][minat[0]].sym == 'H'):\n",
    "                idx = minat[0]\n",
    "            elif (subsys[target][minat[1]].sym == 'H'):\n",
    "                idx = minat[1]\n",
    "        return idx\n",
    "\n",
    "    # Delete the linking hydrogen\n",
    "    idx = find_nearest(lsys, lsys_target, True)\n",
    "    del lsys[lsys_target][idx]\n",
    "\n",
    "    # Optimize the hydrogen positions with xtb while constraining other elements.\n",
    "    tempsys = System()\n",
    "    tempsys[\"LIG:0\"] = lsys[lsys_target]\n",
    "    tempsys[link] = sys[link]\n",
    "    \n",
    "    optsys = constrained_optimization_xtb(tempsys)\n",
    "\n",
    "    sys[\"LIG:0\"] = optsys[\"LIG:0\"]\n",
    "else:\n",
    "    sys[\"LIG:0\"] = lsys[lsys_target]\n",
    "\n",
    "if not exists(oname):\n",
    "    with open(oname, \"w\") as ofile:\n",
    "        write_pdb(sys, ofile)"
   ]
  },
  {
   "cell_type": "code",
   "execution_count": 10,
   "metadata": {},
   "outputs": [],
   "source": [
    "oname1 = join(tempdir, geom+\"-script-p.pml\")\n",
    "oname2 = join(picdir, geom+\"-pocket-protonated.png\")\n",
    "\n",
    "if not exists(oname2):\n",
    "    with open(oname1, \"w\") as ofile:\n",
    "        ofile.write(\"load \" + join(protonated, geom+\"-protonated.pdb\") + \"\\n\")\n",
    "        ofile.write(\"hide everything\\n\")\n",
    "        ofile.write(\"show licorice sticks, resn LIG\\n\")\n",
    "        ofile.write(\"color yellow, resn LIG\\n\")\n",
    "        ofile.write(\"select near_lig, resn lig around 10\\n\")\n",
    "        ofile.write(\"show lines, near_lig\\n\")\n",
    "        ofile.write(\"color blue, near_lig\\n\")\n",
    "        ofile.write(\"orient resname LIG\\n\")\n",
    "        ofile.write(\"zoom resname LIG, complete=1, buffer=4\\n\")\n",
    "        ofile.write(\"orient resname LIG, complete=1, buffer=4\\n\")\n",
    "        ofile.write(\"bg_color white\\n\")\n",
    "        ofile.write(\"png \" + join(oname2) + \", width=10cm, dpi=300, ray=1\\n\")\n",
    "        ofile.write(\"quit\\n\")\n",
    "    system(\"pymol \" + oname1)"
   ]
  },
  {
   "cell_type": "markdown",
   "metadata": {},
   "source": [
    "Optimize."
   ]
  },
  {
   "cell_type": "code",
   "execution_count": 11,
   "metadata": {},
   "outputs": [
    {
     "name": "stdout",
     "output_type": "stream",
     "text": [
      "Initialize a Calculator with OMP_NUM_THREADS=2 and command xtb\n",
      "Run directory protonated/Mpro-x0305\n",
      "Executing command:  xtb Mpro-x0305.tmol --define\n"
     ]
    }
   ],
   "source": [
    "from BigDFT.XTBInterop import XTBCalculator\n",
    "code = XTBCalculator(verbose=True)\n",
    "code.run(sys=sys, name=geom, run_dir=join(protonated, geom), opt=True, gfnff=True, dry_run=True)"
   ]
  },
  {
   "cell_type": "code",
   "execution_count": 12,
   "metadata": {},
   "outputs": [],
   "source": [
    "optsys = code.get_optimized_geometry()\n",
    "\n",
    "oname = join(outdir, geom + \"-m.pdb\")\n",
    "if not exists(oname):\n",
    "    with open(oname, \"w\") as ofile:\n",
    "        write_pdb(optsys, ofile)"
   ]
  },
  {
   "cell_type": "markdown",
   "metadata": {},
   "source": [
    "Create a picture."
   ]
  },
  {
   "cell_type": "code",
   "execution_count": 13,
   "metadata": {},
   "outputs": [],
   "source": [
    "oname1 = join(tempdir, geom+\"-script-p.pml\")\n",
    "oname2 = join(picdir, geom+\"-pocket-m.png\")\n",
    "\n",
    "if not exists(oname2):\n",
    "    with open(oname1, \"w\") as ofile:\n",
    "        ofile.write(\"load \" + join(outdir, geom+\"-m.pdb\") + \"\\n\")\n",
    "        ofile.write(\"hide everything\\n\")\n",
    "        ofile.write(\"show licorice sticks, resn LIG\\n\")\n",
    "        ofile.write(\"color yellow, resn LIG\\n\")\n",
    "        ofile.write(\"select near_lig, resn lig around 10\\n\")\n",
    "        ofile.write(\"show lines, near_lig\\n\")\n",
    "        ofile.write(\"color blue, near_lig\\n\")\n",
    "        ofile.write(\"orient resname LIG\\n\")\n",
    "        ofile.write(\"zoom resname LIG, complete=1, buffer=4\\n\")\n",
    "        ofile.write(\"orient resname LIG, complete=1, buffer=4\\n\")\n",
    "        ofile.write(\"bg_color white\\n\")\n",
    "        ofile.write(\"png \" + join(oname2) + \", width=10cm, dpi=300, ray=1\\n\")\n",
    "        ofile.write(\"quit\\n\")\n",
    "    system(\"pymol \" + oname1)"
   ]
  },
  {
   "cell_type": "code",
   "execution_count": null,
   "metadata": {},
   "outputs": [],
   "source": []
  },
  {
   "cell_type": "code",
   "execution_count": null,
   "metadata": {},
   "outputs": [],
   "source": []
  },
  {
   "cell_type": "code",
   "execution_count": null,
   "metadata": {},
   "outputs": [],
   "source": []
  }
 ],
 "metadata": {
  "kernelspec": {
   "display_name": "Python 3",
   "language": "python",
   "name": "python3"
  },
  "language_info": {
   "codemirror_mode": {
    "name": "ipython",
    "version": 3
   },
   "file_extension": ".py",
   "mimetype": "text/x-python",
   "name": "python",
   "nbconvert_exporter": "python",
   "pygments_lexer": "ipython3",
   "version": "3.6.9"
  }
 },
 "nbformat": 4,
 "nbformat_minor": 4
}
