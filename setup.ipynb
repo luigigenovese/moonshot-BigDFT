{
 "cells": [
  {
   "cell_type": "markdown",
   "metadata": {},
   "source": [
    "# PDB Preparer\n",
    "This notebook prepares the geometries which we will perform quantum mechanical calculations on. It will follow the procedure of downloading the data from the web, patching any mistakes in the metadata, adding hydrogens to the structures, and performing some initial relaxation."
   ]
  },
  {
   "cell_type": "code",
   "execution_count": 1,
   "metadata": {},
   "outputs": [],
   "source": [
    "from os.path import join\n",
    "from futile.Utils import ensure_dir\n",
    "from os import system\n",
    "geomdir = \"raw-structures\"\n",
    "tempdir = \"temp\"\n",
    "ensure_dir(tempdir)\n",
    "outdir = \"processed-structures\"\n",
    "ensure_dir(outdir)\n",
    "solvdir = \"solvated-structures\"\n",
    "ensure_dir(solvdir)\n",
    "picdir = \"pictures\"\n",
    "ensure_dir(picdir)\n",
    "zipfile = \"https://www.diamond.ac.uk/dam/jcr:6423a0d7-9b25-4dc1-b44d-6d6665fd6e32/Mpro_All_PDBs%20-%20ver%202020-03-24.zip\"\n",
    "excelfile = \"https://www.diamond.ac.uk/dam/jcr:cb44b3b1-fb14-4376-b172-ce45cbd66b48/Mpro%20full%20XChem%20screen%20-%20hits%20summary%20-%20ver-2020-03-25.xlsx\"\n",
    "fdir = \"Mpro_All_PDBs - ver 2020-03-24\""
   ]
  },
  {
   "cell_type": "markdown",
   "metadata": {},
   "source": [
    "## Metadata Preparation\n",
    "The metadata about each structure is stored in an excel document on the web. Here we download this data and patch it up. First, we download the data file."
   ]
  },
  {
   "cell_type": "code",
   "execution_count": 2,
   "metadata": {},
   "outputs": [],
   "source": [
    "from os.path import exists\n",
    "from urllib.request import urlretrieve\n",
    "if not exists(\"files.zip\"):\n",
    "    urlretrieve(zipfile, 'files.zip')\n",
    "if not exists(\"data.xlsx\"):\n",
    "    urlretrieve(excelfile, 'data.xlsx')"
   ]
  },
  {
   "cell_type": "markdown",
   "metadata": {},
   "source": [
    "Unzip and rename that directory something sensible."
   ]
  },
  {
   "cell_type": "code",
   "execution_count": 3,
   "metadata": {},
   "outputs": [],
   "source": [
    "from os import system, rename\n",
    "system(\"tar xvf files.zip\")\n",
    "system(\"rm -r \" + geomdir)\n",
    "rename(fdir, geomdir)"
   ]
  },
  {
   "cell_type": "markdown",
   "metadata": {},
   "source": [
    "Now load the data stored in the excel spreadsheet into a python friendly pandas format."
   ]
  },
  {
   "cell_type": "code",
   "execution_count": 4,
   "metadata": {},
   "outputs": [],
   "source": [
    "from pickle import load\n",
    "pname = \"raw-data.pickle\"\n",
    "if exists(pname):\n",
    "    with open(pname, \"rb\") as ifile:\n",
    "        data = load(ifile)\n",
    "else:\n",
    "    from pandas import read_excel\n",
    "    from pickle import dump\n",
    "    data = read_excel(\"data.xlsx\")\n",
    "    with open(pname, \"wb\") as ofile:\n",
    "        dump(data, ofile)"
   ]
  },
  {
   "cell_type": "markdown",
   "metadata": {},
   "source": [
    "There is at least one structure which has the ligand in two separate positions. Let's split that into two input files."
   ]
  },
  {
   "cell_type": "code",
   "execution_count": 5,
   "metadata": {},
   "outputs": [],
   "source": [
    "from BigDFT.IO import read_pdb\n",
    "from copy import deepcopy\n",
    "\n",
    "geomlist = deepcopy(data[\"Crystal ID\"])\n",
    "droplist = []\n",
    "for i, geom in enumerate(geomlist):\n",
    "    with open(join(geomdir, geom+\".pdb\")) as ifile:\n",
    "        sys = read_pdb(ifile)\n",
    "    ligands = [x for x in sys if \"LIG\" in x]\n",
    "    if len(ligands) > 1:\n",
    "        for j, lig in enumerate(ligands):\n",
    "            # Create the split PDB file\n",
    "            with open(join(geomdir, geom+\"-\"+str(j)+\".pdb\"), \"w\") as ofile:\n",
    "                with open(join(geomdir, geom+\".pdb\")) as ifile:\n",
    "                    for line in ifile:\n",
    "                        split = line.split()\n",
    "                        if len(split) > 3 and split[3] == \"LIG\":\n",
    "                            lineid = split[3] + \":\" + str(split[4])[1:]\n",
    "                            if lineid != lig:\n",
    "                                continue\n",
    "                        ofile.write(line)\n",
    "        \n",
    "            # Correct The Data Frame\n",
    "            row = deepcopy(data.iloc[i])\n",
    "            row[\"Crystal ID\"] += \"-\"+str(j)\n",
    "            data = data.append(row, ignore_index=True)\n",
    "        droplist.append(i)\n",
    "\n",
    "# Delete the no longer needed rows\n",
    "for row in droplist[::-1]:\n",
    "    data.drop(row, inplace=True)"
   ]
  },
  {
   "cell_type": "markdown",
   "metadata": {},
   "source": [
    "Inside each PDB file is information about the covalent bonding of the ligand. We want to extract that here."
   ]
  },
  {
   "cell_type": "code",
   "execution_count": 6,
   "metadata": {},
   "outputs": [],
   "source": [
    "covalent = {}\n",
    "for geom, site in zip(data[\"Crystal ID\"], data[\"Site\"]):\n",
    "    if \"covalent\" not in site:\n",
    "        covalent[geom] = None\n",
    "    with open(join(geomdir, geom+\".pdb\")) as ifile:\n",
    "        for line in ifile:\n",
    "            if \"LINK\" in line:\n",
    "                split = line.split()\n",
    "                linkid = split[5] + \":\" + split[7]\n",
    "                covalent[geom] = linkid\n",
    "data[\"Link\"] = list(covalent.values())"
   ]
  },
  {
   "cell_type": "markdown",
   "metadata": {},
   "source": [
    "There are some mistakes in the data set. Here we will manually fix them."
   ]
  },
  {
   "cell_type": "code",
   "execution_count": 7,
   "metadata": {},
   "outputs": [],
   "source": [
    "updated_data = deepcopy(data)\n",
    "for i, row in data.iterrows():\n",
    "    geom = row[\"Crystal ID\"]\n",
    "    smi = row[\"Compound SMILES\"]\n",
    "    \n",
    "    if geom in [\"Mpro-x0705\", \"Mpro-x0708\", \"Mpro-x0731\", \"Mpro-x0736\", \"Mpro-x0771\",\n",
    "                \"Mpro-x0786\", \"Mpro-x1412\"]:\n",
    "        updated_data.at[i, \"Modified Compound SMILES\"] = smi.replace(\"Cl\", \"\")\n",
    "    if geom in [\"Mpro-x0978\", \"Mpro-x0981\"]:\n",
    "        updated_data.at[i, \"Modified Compound SMILES\"] = smi.replace(\"Br\", \"\")\n",
    "        \n",
    "data = updated_data"
   ]
  },
  {
   "cell_type": "markdown",
   "metadata": {},
   "source": [
    "This concludes our modification to the dataset, which can be written to file."
   ]
  },
  {
   "cell_type": "code",
   "execution_count": 8,
   "metadata": {},
   "outputs": [],
   "source": [
    "from pickle import dump\n",
    "with open(\"updated-data.pickle\", \"wb\") as ofile:\n",
    "    dump(data, ofile)"
   ]
  },
  {
   "cell_type": "code",
   "execution_count": null,
   "metadata": {},
   "outputs": [],
   "source": []
  }
 ],
 "metadata": {
  "kernelspec": {
   "display_name": "Python 3",
   "language": "python",
   "name": "python3"
  },
  "language_info": {
   "codemirror_mode": {
    "name": "ipython",
    "version": 3
   },
   "file_extension": ".py",
   "mimetype": "text/x-python",
   "name": "python",
   "nbconvert_exporter": "python",
   "pygments_lexer": "ipython3",
   "version": "3.7.6"
  }
 },
 "nbformat": 4,
 "nbformat_minor": 4
}
